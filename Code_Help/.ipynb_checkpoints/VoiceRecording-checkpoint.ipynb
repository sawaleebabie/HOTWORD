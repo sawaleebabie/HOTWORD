{
 "cells": [
  {
   "cell_type": "code",
   "execution_count": 2,
   "metadata": {
    "tags": []
   },
   "outputs": [
    {
     "name": "stdout",
     "output_type": "stream",
     "text": [
      "Collecting SoundFile\n",
      "  Downloading SoundFile-0.10.3.post1-py2.py3.cp26.cp27.cp32.cp33.cp34.cp35.cp36.pp27.pp32.pp33-none-win_amd64.whl (689 kB)\n",
      "Requirement already satisfied: cffi>=1.0 in c:\\users\\sawalee\\appdata\\local\\programs\\python\\python37\\lib\\site-packages (from SoundFile) (1.14.5)\n",
      "Requirement already satisfied: pycparser in c:\\users\\sawalee\\appdata\\local\\programs\\python\\python37\\lib\\site-packages (from cffi>=1.0->SoundFile) (2.20)\n",
      "Installing collected packages: SoundFile\n",
      "Successfully installed SoundFile-0.10.3.post1\n"
     ]
    }
   ],
   "source": [
    "!pip install SoundFile"
   ]
  },
  {
   "cell_type": "code",
   "execution_count": 3,
   "metadata": {
    "tags": []
   },
   "outputs": [
    {
     "name": "stdout",
     "output_type": "stream",
     "text": [
      "Collecting sounddevice\n",
      "  Using cached sounddevice-0.4.1-py3.cp32.cp33.cp34.cp35.cp36.cp37.cp38.cp39.pp32.pp33.pp34.pp35.pp36.pp37-none-win_amd64.whl (167 kB)\n",
      "Requirement already satisfied: CFFI>=1.0 in c:\\users\\sawalee\\appdata\\local\\programs\\python\\python37\\lib\\site-packages (from sounddevice) (1.14.5)\n",
      "Requirement already satisfied: pycparser in c:\\users\\sawalee\\appdata\\local\\programs\\python\\python37\\lib\\site-packages (from CFFI>=1.0->sounddevice) (2.20)\n",
      "Installing collected packages: sounddevice\n",
      "Successfully installed sounddevice-0.4.1\n"
     ]
    }
   ],
   "source": [
    "!pip install sounddevice"
   ]
  },
  {
   "cell_type": "markdown",
   "metadata": {},
   "source": [
    "## ------------------------------------------------------------------------------"
   ]
  },
  {
   "cell_type": "markdown",
   "metadata": {},
   "source": [
    "# Recording\n",
    "### โปรแกรมบันทึกเสียง"
   ]
  },
  {
   "cell_type": "code",
   "execution_count": 4,
   "metadata": {},
   "outputs": [],
   "source": [
    "import sounddevice as sd \n",
    "from scipy.io.wavfile import write \n",
    "import soundfile"
   ]
  },
  {
   "cell_type": "code",
   "execution_count": null,
   "metadata": {},
   "outputs": [
    {
     "name": "stdin",
     "output_type": "stream",
     "text": [
      "Press '/' to begin /\n"
     ]
    },
    {
     "name": "stdout",
     "output_type": "stream",
     "text": [
      "start\n",
      "end\n"
     ]
    }
   ],
   "source": [
    "count = 0\n",
    "while True:\n",
    "    key = input(\"Press '/' to begin\") \n",
    "    if(key == '/'):\n",
    "        count+=1\n",
    "        fs = 44100 \n",
    "        seconds = 10\n",
    "        sd.default.samplerate = fs\n",
    "        sd.default.channels = 1 \n",
    "        myrecording = sd.rec(int(seconds * fs))\n",
    "        print('start')\n",
    "        sd.wait()  \n",
    "        print('end')\n",
    " \n",
    "        path = \"D:/Babie/DetectHelp/TestRecord/\"\n",
    "        fileName = path+'record'+str(count)+\".wav\"\n",
    "        write(fileName, fs, myrecording)\n",
    "        \n",
    "        data, samplerate = soundfile.read(fileName)\n",
    "        soundfile.write(fileName, data, samplerate, subtype='PCM_16')\n",
    "    \n",
    "        key = '.'"
   ]
  },
  {
   "cell_type": "code",
   "execution_count": null,
   "metadata": {},
   "outputs": [],
   "source": []
  }
 ],
 "metadata": {
  "kernelspec": {
   "display_name": "Python 3",
   "language": "python",
   "name": "python3"
  },
  "language_info": {
   "codemirror_mode": {
    "name": "ipython",
    "version": 3
   },
   "file_extension": ".py",
   "mimetype": "text/x-python",
   "name": "python",
   "nbconvert_exporter": "python",
   "pygments_lexer": "ipython3",
   "version": "3.7.3"
  }
 },
 "nbformat": 4,
 "nbformat_minor": 4
}
