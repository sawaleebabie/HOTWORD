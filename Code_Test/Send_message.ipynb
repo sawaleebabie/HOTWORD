{
 "cells": [
  {
   "cell_type": "code",
   "execution_count": null,
   "id": "b874c774-2752-4fd8-a60c-b69d337e89d7",
   "metadata": {},
   "outputs": [],
   "source": [
    "!pip install sinchsms"
   ]
  },
  {
   "cell_type": "code",
   "execution_count": null,
   "id": "fbdeef4c-9b55-4520-abc9-6fe47a8f05cd",
   "metadata": {},
   "outputs": [],
   "source": [
    "import time\n",
    "from time import sleep\n",
    "from sinchsms import SinchSMS"
   ]
  },
  {
   "cell_type": "code",
   "execution_count": null,
   "id": "b57529cb-fedb-45fe-aed7-9d40680bb3fd",
   "metadata": {},
   "outputs": [],
   "source": [
    "# function for sending SMS\n",
    "def sendSMS():\n",
    "  \n",
    "    # enter all the details\n",
    "    # get app_key and app_secret by registering\n",
    "    # a app on sinchSMS\n",
    "    number = 'your_number'\n",
    "    app_key = 'your_app_key'\n",
    "    app_secret = 'your_app_secret'\n",
    "  \n",
    "    # enter the message to be sent\n",
    "    message = 'Hello Message!!!'\n",
    "  \n",
    "    client = SinchSMS(app_key, app_secret)\n",
    "    print(\"Sending '%s' to %s\" % (message, number))\n",
    "  \n",
    "    response = client.send_message(number, message)\n",
    "    message_id = response['messageId']\n",
    "    response = client.check_status(message_id)\n",
    "  \n",
    "    # keep trying unless the status retured is Successful\n",
    "    while response['status'] != 'Successful':\n",
    "        print(response['status'])\n",
    "        time.sleep(1)\n",
    "        response = client.check_status(message_id)\n",
    "  \n",
    "    print(response['status'])    "
   ]
  },
  {
   "cell_type": "code",
   "execution_count": null,
   "id": "caea09e7-ad92-4308-9a07-da7c7534b25c",
   "metadata": {
    "tags": []
   },
   "outputs": [],
   "source": [
    "sendSMS()"
   ]
  },
  {
   "cell_type": "code",
   "execution_count": null,
   "id": "8f86a1ec-74e7-4d40-8784-bd24878137b3",
   "metadata": {},
   "outputs": [],
   "source": []
  }
 ],
 "metadata": {
  "kernelspec": {
   "display_name": "Python 3",
   "language": "python",
   "name": "python3"
  },
  "language_info": {
   "codemirror_mode": {
    "name": "ipython",
    "version": 3
   },
   "file_extension": ".py",
   "mimetype": "text/x-python",
   "name": "python",
   "nbconvert_exporter": "python",
   "pygments_lexer": "ipython3",
   "version": "3.8.3"
  }
 },
 "nbformat": 4,
 "nbformat_minor": 5
}
