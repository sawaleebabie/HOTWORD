{
 "cells": [
  {
   "cell_type": "markdown",
   "metadata": {},
   "source": [
    "# 4---เริ่มทำการตรวจจับคำ trigger word detection"
   ]
  },
  {
   "cell_type": "markdown",
   "metadata": {},
   "source": [
    "## ต้องติดตั้ง Module รัน pyaudio เพื่อทำการอัดเสียงผ่านคำสั่ง Python"
   ]
  },
  {
   "cell_type": "code",
   "execution_count": null,
   "metadata": {
    "tags": []
   },
   "outputs": [],
   "source": [
    "!pip install pipwin\n",
    "!pipwin install pyaudio"
   ]
  },
  {
   "cell_type": "code",
   "execution_count": null,
   "metadata": {
    "tags": []
   },
   "outputs": [],
   "source": [
    "!pip install playsound"
   ]
  },
  {
   "cell_type": "markdown",
   "metadata": {},
   "source": [
    "## ------------------------------------------------------------------------------"
   ]
  },
  {
   "cell_type": "code",
   "execution_count": null,
   "metadata": {
    "tags": []
   },
   "outputs": [],
   "source": [
    "import numpy as np\n",
    "import time\n",
    "from pydub import AudioSegment\n",
    "import random\n",
    "import sys\n",
    "import io\n",
    "import os\n",
    "import glob\n",
    "import IPython\n",
    "import tensorflow as tf\n",
    "from tensorflow import keras\n",
    "import wave\n",
    "from keras.callbacks import ModelCheckpoint\n",
    "from keras.models import Model, load_model, Sequential\n",
    "from keras.layers import Dense, Activation, Dropout, Input, Masking, TimeDistributed, LSTM, Conv1D\n",
    "from keras.layers import GRU, Bidirectional, BatchNormalization, Reshape\n",
    "from keras.optimizers import Adam\n",
    "import matplotlib.mlab as mlab\n",
    "import matplotlib.pyplot as plt\n",
    "from scipy.io.wavfile import write\n",
    "%matplotlib inline"
   ]
  },
  {
   "cell_type": "markdown",
   "metadata": {},
   "source": [
    "## Load model"
   ]
  },
  {
   "cell_type": "code",
   "execution_count": null,
   "metadata": {},
   "outputs": [],
   "source": [
    "model_help = load_model('C:/Users/sawalee/Desktop/detect_Help/Code_Test/models/help_model_new7.h5')\n",
    "model_no = load_model('C:/Users/sawalee/Desktop/detect_Help/Code_Test/models/No_11.h5')\n",
    "model_yes = load_model('C:/Users/sawalee/Desktop/detect_Help/Code_Test/models/Yes_model_6.h5')"
   ]
  },
  {
   "cell_type": "markdown",
   "metadata": {},
   "source": [
    "## ------------------------------------------------------------------------------"
   ]
  },
  {
   "cell_type": "markdown",
   "metadata": {},
   "source": [
    "## Detect trigger word Help\n",
    "##### โหลดโมเดลมาไว้ใน Func- detect_triggerword_spectrum เพื่อเอาไปเช็คใน Audio stream เมื่อเจอคำว่า \"ช่วยด้วย\" แสดง \"Do you need help? \""
   ]
  },
  {
   "cell_type": "code",
   "execution_count": null,
   "metadata": {},
   "outputs": [],
   "source": [
    "def detect_triggerword_spectrum_help(x):\n",
    "\n",
    "    x  = x.swapaxes(0,1)\n",
    "    x = np.expand_dims(x, axis=0)\n",
    "    predictions = model_help.predict(x)\n",
    "    return predictions.reshape(-1)"
   ]
  },
  {
   "cell_type": "markdown",
   "metadata": {},
   "source": [
    "## Detect trigger word No\n",
    "##### โหลดโมเดลมาไว้ใน Func- detect_triggerword_spectrum เพื่อเอาไปเช็คใน Audio stream เมื่อเจอคำว่า \"ไม่\" แสดง \" No \""
   ]
  },
  {
   "cell_type": "code",
   "execution_count": null,
   "metadata": {},
   "outputs": [],
   "source": [
    "def detect_triggerword_spectrum_no(x):\n",
    "\n",
    "    x  = x.swapaxes(0,1)\n",
    "    x = np.expand_dims(x, axis=0)\n",
    "    predictions = model_no.predict(x)\n",
    "    return predictions.reshape(-1)"
   ]
  },
  {
   "cell_type": "markdown",
   "metadata": {},
   "source": [
    "## Detect trigger word Yes\n",
    "##### โหลดโมเดลมาไว้ใน Func- detect_triggerword_spectrum เพื่อเอาไปเช็คใน Audio stream เมื่อเจอคำว่า \"ใช่\" แสดง \"Sending a message for help\""
   ]
  },
  {
   "cell_type": "code",
   "execution_count": null,
   "metadata": {},
   "outputs": [],
   "source": [
    "def detect_triggerword_spectrum_yes(x):\n",
    "\n",
    "    x  = x.swapaxes(0,1)\n",
    "    x = np.expand_dims(x, axis=0)\n",
    "    predictions = model_yes.predict(x)\n",
    "    return predictions.reshape(-1)"
   ]
  },
  {
   "cell_type": "markdown",
   "metadata": {},
   "source": [
    "## ------------------------------------------------------------------------------"
   ]
  },
  {
   "cell_type": "code",
   "execution_count": null,
   "metadata": {},
   "outputs": [],
   "source": [
    "def has_new_triggerword_help(predictions, chunk_duration, feed_duration, threshold=0.2):  #threshold สามารถปรับเปลี่ยนได้\n",
    "\n",
    "    predictions = predictions > threshold\n",
    "    \n",
    "    chunk_predictions_samples = int(len(predictions) * chunk_duration / feed_duration)\n",
    "    chunk_predictions = predictions[-chunk_predictions_samples:]\n",
    "    level = chunk_predictions[0]\n",
    "    for predictions in chunk_predictions:\n",
    "        if predictions > level:\n",
    "            return True\n",
    "        else:\n",
    "            level = predictions\n",
    "    return False\n",
    "\n",
    "def has_new_triggerword_no(predictions, chunk_duration, feed_duration, threshold=0.1):  #threshold สามารถปรับเปลี่ยนได้\n",
    "\n",
    "    predictions = predictions > threshold\n",
    "    \n",
    "    chunk_predictions_samples = int(len(predictions) * chunk_duration / feed_duration)\n",
    "    chunk_predictions = predictions[-chunk_predictions_samples:]\n",
    "    level = chunk_predictions[0]\n",
    "    for predictions in chunk_predictions:\n",
    "        if predictions > level:\n",
    "            return True\n",
    "        else:\n",
    "            level = predictions\n",
    "    return False\n",
    "\n",
    "def has_new_triggerword_yes(predictions, chunk_duration, feed_duration, threshold=0.2):  #threshold สามารถปรับเปลี่ยนได้\n",
    "\n",
    "    predictions = predictions > threshold\n",
    "    \n",
    "    chunk_predictions_samples = int(len(predictions) * chunk_duration / feed_duration)\n",
    "    chunk_predictions = predictions[-chunk_predictions_samples:]\n",
    "    level = chunk_predictions[0]\n",
    "    for predictions in chunk_predictions:\n",
    "        if predictions > level:\n",
    "            return True\n",
    "        else:\n",
    "            level = predictions\n",
    "    return False"
   ]
  },
  {
   "cell_type": "markdown",
   "metadata": {},
   "source": [
    "## Record audio stream from mic "
   ]
  },
  {
   "cell_type": "code",
   "execution_count": null,
   "metadata": {},
   "outputs": [],
   "source": [
    "chunk_duration = 0.5\n",
    "fs = 44100 \n",
    "chunk_samples = int(fs * chunk_duration)\n",
    "\n",
    "feed_duration = 10\n",
    "feed_samples = int(fs * feed_duration)\n",
    "\n",
    "assert feed_duration/chunk_duration == int(feed_duration/chunk_duration)"
   ]
  },
  {
   "cell_type": "code",
   "execution_count": null,
   "metadata": {},
   "outputs": [],
   "source": [
    "def get_spectrogram(data):\n",
    "\n",
    "    nfft = 200 \n",
    "    fs = 8000 \n",
    "    noverlap = 120\n",
    "    nchannels = data.ndim\n",
    "    if nchannels == 1:\n",
    "        pxx, _, _ = mlab.specgram(data, nfft, fs, noverlap = noverlap)\n",
    "    elif nchannels == 2:\n",
    "        pxx, _, _ = mlab.specgram(data[:,0], nfft, fs, noverlap = noverlap)\n",
    "    return pxx"
   ]
  },
  {
   "cell_type": "code",
   "execution_count": null,
   "metadata": {},
   "outputs": [],
   "source": [
    "def plt_spectrogram(data):\n",
    "\n",
    "    nfft = 200\n",
    "    fs = 8000\n",
    "    noverlap = 120 \n",
    "    nchannels = data.ndim\n",
    "    if nchannels == 1:\n",
    "        pxx, _, _, _ = plt.specgram(data, nfft, fs, noverlap = noverlap)\n",
    "    elif nchannels == 2:\n",
    "        pxx, _, _, _ = plt.specgram(data[:,0], nfft, fs, noverlap = noverlap)\n",
    "    return pxx"
   ]
  },
  {
   "cell_type": "code",
   "execution_count": null,
   "metadata": {},
   "outputs": [],
   "source": [
    "def get_audio_input_stream(callback):\n",
    "    stream = pyaudio.PyAudio().open(\n",
    "        format=pyaudio.paInt16,\n",
    "        channels=1,\n",
    "        rate=fs,\n",
    "        input=True,\n",
    "        frames_per_buffer=chunk_samples,\n",
    "        input_device_index=1,\n",
    "        stream_callback=callback)\n",
    "    return stream"
   ]
  },
  {
   "cell_type": "markdown",
   "metadata": {},
   "source": [
    "## ------------------------------------------------------------------------------\n",
    "# Start stream"
   ]
  },
  {
   "cell_type": "code",
   "execution_count": null,
   "metadata": {
    "tags": []
   },
   "outputs": [],
   "source": [
    "import pyaudio\n",
    "from queue import Queue\n",
    "from threading import Thread\n",
    "import sys\n",
    "import time\n",
    "from playsound import playsound\n",
    "from multiprocessing import Queue  # multiprocessing queue\n",
    "\n",
    "q = Queue()\n",
    "run = True\n",
    "silence_threshold = 900\n",
    "\n",
    "data = np.zeros(feed_samples, dtype='int16')\n",
    "\n",
    "def callback(in_data, frame_count, time_info, status):\n",
    "    global run, timeout, data, silence_threshold          \n",
    "    data0 = np.frombuffer(in_data, dtype='int16')\n",
    "    if np.abs(data0).mean() < silence_threshold:\n",
    "        sys.stdout.write('-')\n",
    "        return (in_data, pyaudio.paContinue)\n",
    "    else:\n",
    "        sys.stdout.write('.')\n",
    "    data = np.append(data,data0)    \n",
    "    if len(data) > feed_samples:\n",
    "        data = data[-feed_samples:]\n",
    "        q.put(data)\n",
    "    return (in_data, pyaudio.paContinue)\n",
    "\n",
    "stream = get_audio_input_stream(callback)\n",
    "stream.start_stream()\n",
    "   \n",
    "try:\n",
    "    while run:                \n",
    "        data = q.get()\n",
    "        spectrum = get_spectrogram(data) \n",
    "        \n",
    "        preds_help = detect_triggerword_spectrum_help(spectrum)        \n",
    "        new_trigger_help = has_new_triggerword_help(preds_help, chunk_duration, feed_duration)  \n",
    "        \n",
    "#         print(\"Check Help\")\n",
    "        if new_trigger_help:\n",
    "            print('Do you need help?')\n",
    "            playsound('output3.wav') \n",
    "            print('Yes / No')\n",
    "            playsound('output5.wav')\n",
    "            \n",
    "            timeCount = 0\n",
    "            maxCount = 10\n",
    "            \n",
    "            while timeCount < maxCount:\n",
    "                timeCount += 1\n",
    "#                 print(timeCount)\n",
    "                \n",
    "                data = q.get()\n",
    "                spectrum = get_spectrogram(data) \n",
    "                \n",
    "                preds_no = detect_triggerword_spectrum_no(spectrum)\n",
    "                preds_yes = detect_triggerword_spectrum_yes(spectrum)\n",
    "                new_trigger_no = has_new_triggerword_no(preds_no, chunk_duration, feed_duration)\n",
    "                new_trigger_yes = has_new_triggerword_yes(preds_yes, chunk_duration, feed_duration)\n",
    "                \n",
    "#                 print(\"Check yes\")\n",
    "                if new_trigger_yes:\n",
    "                    print('Sending a message for help')\n",
    "                    playsound('output4.wav')\n",
    "                    time.sleep(3)\n",
    "                    break;\n",
    "                \n",
    "#                 print(\"Check No\")\n",
    "                if new_trigger_no:\n",
    "                    print('No')\n",
    "                    playsound('output6.wav')\n",
    "                    time.sleep(3)\n",
    "                    break; \n",
    "                    \n",
    "            print(\"Listening Help\")\n",
    "      \n",
    "    print(\"End\")\n",
    "    \n",
    "except (KeyboardInterrupt, SystemExit):\n",
    "    stream.stop_stream()\n",
    "    stream.close()"
   ]
  },
  {
   "cell_type": "markdown",
   "metadata": {},
   "source": [
    "# Stop stream\n",
    "\n",
    "### Kernel --> Restart kernel... เพื่อหยุด stream"
   ]
  },
  {
   "cell_type": "code",
   "execution_count": null,
   "metadata": {},
   "outputs": [],
   "source": []
  }
 ],
 "metadata": {
  "kernelspec": {
   "display_name": "Python 3",
   "language": "python",
   "name": "python3"
  },
  "language_info": {
   "codemirror_mode": {
    "name": "ipython",
    "version": 3
   },
   "file_extension": ".py",
   "mimetype": "text/x-python",
   "name": "python",
   "nbconvert_exporter": "python",
   "pygments_lexer": "ipython3",
   "version": "3.7.3"
  }
 },
 "nbformat": 4,
 "nbformat_minor": 4
}
