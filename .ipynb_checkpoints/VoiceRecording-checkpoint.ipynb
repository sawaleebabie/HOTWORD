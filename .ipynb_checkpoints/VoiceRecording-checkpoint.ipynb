{
 "cells": [
  {
   "cell_type": "code",
   "execution_count": null,
   "metadata": {
    "tags": []
   },
   "outputs": [],
   "source": [
    "!pip install SoundFile"
   ]
  },
  {
   "cell_type": "code",
   "execution_count": null,
   "metadata": {
    "tags": []
   },
   "outputs": [],
   "source": [
    "!pip install sounddevice"
   ]
  },
  {
   "cell_type": "markdown",
   "metadata": {},
   "source": [
    "## ------------------------------------------------------------------------------"
   ]
  },
  {
   "cell_type": "markdown",
   "metadata": {},
   "source": [
    "# Recording\n",
    "### โปรแกรมบันทึกเสียง"
   ]
  },
  {
   "cell_type": "code",
   "execution_count": 1,
   "metadata": {},
   "outputs": [],
   "source": [
    "import sounddevice as sd \n",
    "from scipy.io.wavfile import write \n",
    "import soundfile"
   ]
  },
  {
   "cell_type": "code",
   "execution_count": null,
   "metadata": {},
   "outputs": [
    {
     "name": "stdin",
     "output_type": "stream",
     "text": [
      "Press '/' to begin /\n"
     ]
    },
    {
     "name": "stdout",
     "output_type": "stream",
     "text": [
      "start\n",
      "end\n"
     ]
    }
   ],
   "source": [
    "count = 0\n",
    "while True:\n",
    "    key = input(\"Press '/' to begin\") \n",
    "    if(key == '/'):\n",
    "        count+=1\n",
    "        fs = 44100 \n",
    "        seconds = 10\n",
    "        sd.default.samplerate = fs\n",
    "        sd.default.channels = 1 \n",
    "        myrecording = sd.rec(int(seconds * fs))\n",
    "        print('start')\n",
    "        sd.wait()  \n",
    "        print('end')\n",
    " \n",
    "        path = \"../DetectHelp/TestRecord/\"    \n",
    "        fileName = path+'record'+str(count)+\".wav\"\n",
    "        write(fileName, fs, myrecording)\n",
    "        \n",
    "        data, samplerate = soundfile.read(fileName)\n",
    "        soundfile.write(fileName, data, samplerate, subtype='PCM_16')\n",
    "    \n",
    "        key = '.'"
   ]
  },
  {
   "cell_type": "code",
   "execution_count": null,
   "metadata": {},
   "outputs": [],
   "source": []
  }
 ],
 "metadata": {
  "kernelspec": {
   "display_name": "Python 3",
   "language": "python",
   "name": "python3"
  },
  "language_info": {
   "codemirror_mode": {
    "name": "ipython",
    "version": 3
   },
   "file_extension": ".py",
   "mimetype": "text/x-python",
   "name": "python",
   "nbconvert_exporter": "python",
   "pygments_lexer": "ipython3",
   "version": "3.8.3"
  }
 },
 "nbformat": 4,
 "nbformat_minor": 4
}
