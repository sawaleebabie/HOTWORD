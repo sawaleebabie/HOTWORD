{
 "cells": [
  {
   "cell_type": "markdown",
   "metadata": {},
   "source": [
    "# 2---ไฟล์ Model_Training เป็นไฟล์ที่ใช้ Train Model ที่ Create ไว้ "
   ]
  },
  {
   "cell_type": "code",
   "execution_count": 1,
   "metadata": {},
   "outputs": [
    {
     "name": "stderr",
     "output_type": "stream",
     "text": [
      "c:\\users\\sawalee\\appdata\\local\\programs\\python\\python37\\lib\\site-packages\\pydub\\utils.py:170: RuntimeWarning: Couldn't find ffmpeg or avconv - defaulting to ffmpeg, but may not work\n",
      "  warn(\"Couldn't find ffmpeg or avconv - defaulting to ffmpeg, but may not work\", RuntimeWarning)\n"
     ]
    }
   ],
   "source": [
    "import numpy as np\n",
    "import IPython\n",
    "from n_utils import *\n",
    "from keras.callbacks import ModelCheckpoint\n",
    "from keras.models import Model, load_model, Sequential\n",
    "from keras.layers import Dense, Activation, Dropout, Input, Masking, TimeDistributed, LSTM, Conv1D\n",
    "from keras.layers import GRU, Bidirectional, BatchNormalization, Reshape\n",
    "from keras.optimizers import Adam\n",
    "import matplotlib.pyplot as plt\n",
    "%matplotlib inline"
   ]
  },
  {
   "cell_type": "markdown",
   "metadata": {},
   "source": [
    "## ทำการ Build model"
   ]
  },
  {
   "cell_type": "code",
   "execution_count": 2,
   "metadata": {},
   "outputs": [],
   "source": [
    "Tx = 5511\n",
    "Ty = 1375\n",
    "n_freq= 101"
   ]
  },
  {
   "cell_type": "code",
   "execution_count": 3,
   "metadata": {},
   "outputs": [],
   "source": [
    "def model(input_shape):\n",
    "\n",
    "    X_input = Input(shape = input_shape)\n",
    "    X = Conv1D(196, kernel_size=15, strides=4)(X_input)                               \n",
    "    X = BatchNormalization()(X)                              \n",
    "    X = Activation('relu')(X)                                \n",
    "    X = Dropout(0.5)(X)                                 \n",
    "\n",
    "    X = GRU(units = 128, return_sequences = True, reset_after=True)(X) \n",
    "    X = Dropout(0.5)(X)                                 \n",
    "    X = BatchNormalization()(X)                                \n",
    "\n",
    "    X = GRU(units = 128, return_sequences = True, reset_after=True)(X)  \n",
    "    X = Dropout(0.5)(X)                                \n",
    "    X = BatchNormalization()(X)                              \n",
    "    X = Dropout(0.5)(X)                               \n",
    "\n",
    "    X = TimeDistributed(Dense(1, activation = \"sigmoid\"))(X)\n",
    "\n",
    "    model = Model(inputs = X_input, outputs = X)\n",
    "    \n",
    "    return model  "
   ]
  },
  {
   "cell_type": "code",
   "execution_count": 4,
   "metadata": {
    "scrolled": true
   },
   "outputs": [],
   "source": [
    "model = model(input_shape = (Tx, n_freq))"
   ]
  },
  {
   "cell_type": "code",
   "execution_count": 5,
   "metadata": {
    "scrolled": true,
    "tags": []
   },
   "outputs": [
    {
     "name": "stdout",
     "output_type": "stream",
     "text": [
      "Model: \"model\"\n",
      "_________________________________________________________________\n",
      "Layer (type)                 Output Shape              Param #   \n",
      "=================================================================\n",
      "input_1 (InputLayer)         [(None, 5511, 101)]       0         \n",
      "_________________________________________________________________\n",
      "conv1d (Conv1D)              (None, 1375, 196)         297136    \n",
      "_________________________________________________________________\n",
      "batch_normalization (BatchNo (None, 1375, 196)         784       \n",
      "_________________________________________________________________\n",
      "activation (Activation)      (None, 1375, 196)         0         \n",
      "_________________________________________________________________\n",
      "dropout (Dropout)            (None, 1375, 196)         0         \n",
      "_________________________________________________________________\n",
      "gru (GRU)                    (None, 1375, 128)         125184    \n",
      "_________________________________________________________________\n",
      "dropout_1 (Dropout)          (None, 1375, 128)         0         \n",
      "_________________________________________________________________\n",
      "batch_normalization_1 (Batch (None, 1375, 128)         512       \n",
      "_________________________________________________________________\n",
      "gru_1 (GRU)                  (None, 1375, 128)         99072     \n",
      "_________________________________________________________________\n",
      "dropout_2 (Dropout)          (None, 1375, 128)         0         \n",
      "_________________________________________________________________\n",
      "batch_normalization_2 (Batch (None, 1375, 128)         512       \n",
      "_________________________________________________________________\n",
      "dropout_3 (Dropout)          (None, 1375, 128)         0         \n",
      "_________________________________________________________________\n",
      "time_distributed (TimeDistri (None, 1375, 1)           129       \n",
      "=================================================================\n",
      "Total params: 523,329\n",
      "Trainable params: 522,425\n",
      "Non-trainable params: 904\n",
      "_________________________________________________________________\n"
     ]
    }
   ],
   "source": [
    "model.summary()"
   ]
  },
  {
   "cell_type": "markdown",
   "metadata": {},
   "source": [
    "## โหลดไฟล์ที่ Train และ Test "
   ]
  },
  {
   "cell_type": "code",
   "execution_count": 6,
   "metadata": {
    "tags": []
   },
   "outputs": [
    {
     "data": {
      "text/plain": [
       "(480, 1375, 1)"
      ]
     },
     "execution_count": 6,
     "metadata": {},
     "output_type": "execute_result"
    }
   ],
   "source": [
    "X = np.load('C:/Users/sawalee/Desktop/DetectHelp/Code_No/Train/XY_train/X_model.npy')\n",
    "Y = np.load('C:/Users/sawalee/Desktop/DetectHelp/Code_No/Train/XY_train/Y_model.npy')\n",
    "Y.shape"
   ]
  },
  {
   "cell_type": "code",
   "execution_count": 7,
   "metadata": {
    "tags": []
   },
   "outputs": [
    {
     "data": {
      "text/plain": [
       "(120, 1375, 1)"
      ]
     },
     "execution_count": 7,
     "metadata": {},
     "output_type": "execute_result"
    }
   ],
   "source": [
    "X_dev = np.load('C:/Users/sawalee/Desktop/DetectHelp/Code_No/Train/XY_dev/X_model_dev.npy')\n",
    "Y_dev = np.load('C:/Users/sawalee/Desktop/DetectHelp/Code_No/Train/XY_dev/Y_model_dev.npy')\n",
    "Y_dev.shape"
   ]
  },
  {
   "cell_type": "markdown",
   "metadata": {},
   "source": [
    "## โหลด Model เก่ามา Train กับข้อมูลใหม่"
   ]
  },
  {
   "cell_type": "code",
   "execution_count": 8,
   "metadata": {},
   "outputs": [],
   "source": [
    "model=load_model('C:/Users/sawalee/Desktop/DetectHelp/Code_No/models/yesOrno.h5')"
   ]
  },
  {
   "cell_type": "markdown",
   "metadata": {},
   "source": [
    "## Fit Model\n",
    "\n",
    "#### learning_rate\n",
    "- ถ้า Learning Rate มีค่าน้อย Weight ของโมเดลก็จะเปลี่ยนแปลงน้อย การทำงานของโมเดลก็จะเปลี่ยนไปน้อย Loss ก็ไม่ค่อยเปลี่ยนเท่าไร\n",
    "- ถ้า Learning Rate มีค่ามาก Weight ของโมเดลก็จะเปลี่ยนแปลงมาก การทำงานของโมเดลก็จะเปลี่ยนไปมาก Loss ก็จะเปลี่ยนแปลงมาก\n",
    "\n",
    "#### batch_size\n",
    "- เวลาที่ใช้เทรน – Batch Size เล็กช้ากว่า\n",
    "- Memory ที่ใช้ – Batch Size เล็กใช้น้อยกว่า\n",
    "- และที่สำคัญ ความแม่นยำของโมเดล – Batch Size ขนาด <=32 แม่นยำกว่า"
   ]
  },
  {
   "cell_type": "code",
   "execution_count": 9,
   "metadata": {
    "tags": []
   },
   "outputs": [
    {
     "name": "stdout",
     "output_type": "stream",
     "text": [
      "15/15 [==============================] - 468s 10s/step - loss: 0.1105 - accuracy: 0.9645\n"
     ]
    },
    {
     "data": {
      "text/plain": [
       "<keras.callbacks.History at 0x2d1cbecbc88>"
      ]
     },
     "execution_count": 9,
     "metadata": {},
     "output_type": "execute_result"
    }
   ],
   "source": [
    "#fit the model\n",
    "opt = Adam(learning_rate=0.001, beta_1=0.9, beta_2=0.999, decay=0.01)\n",
    "model.compile(loss='binary_crossentropy', optimizer=opt, metrics=[\"accuracy\"])\n",
    "model.fit(X, Y, batch_size = 32, epochs=1)"
   ]
  },
  {
   "cell_type": "markdown",
   "metadata": {},
   "source": [
    "## ได้ Model มาแล้ว Save Model"
   ]
  },
  {
   "cell_type": "code",
   "execution_count": 10,
   "metadata": {},
   "outputs": [],
   "source": [
    "model.save('C:/Users/sawalee/Desktop/DetectHelp/Code_No/models/No_model.h5')"
   ]
  },
  {
   "cell_type": "markdown",
   "metadata": {},
   "source": [
    "## Test Model"
   ]
  },
  {
   "cell_type": "code",
   "execution_count": 11,
   "metadata": {},
   "outputs": [
    {
     "name": "stdout",
     "output_type": "stream",
     "text": [
      "4/4 [==============================] - 20s 2s/step - loss: 0.0687 - accuracy: 0.9770\n",
      "Dev set accuracy =  0.976987898349762\n"
     ]
    }
   ],
   "source": [
    "#test the model\n",
    "loss, acc = model.evaluate(X_dev, Y_dev)\n",
    "print(\"Dev set accuracy = \", acc)"
   ]
  },
  {
   "cell_type": "code",
   "execution_count": null,
   "metadata": {},
   "outputs": [],
   "source": []
  }
 ],
 "metadata": {
  "kernelspec": {
   "display_name": "Python 3",
   "language": "python",
   "name": "python3"
  },
  "language_info": {
   "codemirror_mode": {
    "name": "ipython",
    "version": 3
   },
   "file_extension": ".py",
   "mimetype": "text/x-python",
   "name": "python",
   "nbconvert_exporter": "python",
   "pygments_lexer": "ipython3",
   "version": "3.7.3"
  }
 },
 "nbformat": 4,
 "nbformat_minor": 4
}
